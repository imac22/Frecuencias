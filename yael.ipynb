{
 "cells": [
  {
   "cell_type": "code",
   "execution_count": 28,
   "id": "6ce9a4eb-a607-4de5-a2b6-88776c0eb44b",
   "metadata": {},
   "outputs": [],
   "source": [
    "import codigo_base.jose as j\n",
    "import codigo_base.gustavo as g\n",
    "import codigo_base.milagros as m\n",
    "import codigo_base.rosario as r\n",
    "import codigo_base.isai as i"
   ]
  },
  {
   "cell_type": "code",
   "execution_count": 29,
   "id": "9fbe9521-1520-4c3c-a76b-982dd57fe232",
   "metadata": {},
   "outputs": [
    {
     "name": "stdout",
     "output_type": "stream",
     "text": [
      "11\n",
      "Clases:  [-4, -3, -1, 2, 3, 4, 5, 6, 9]\n",
      "Frec. absoluta:  [2, 1, 2, 1, 1, 1, 1, 1, 1]\n",
      "Frecuencia relativa:  [18.181818181818183, 9.090909090909092, 18.181818181818183, 9.090909090909092, 9.090909090909092, 9.090909090909092, 9.090909090909092, 9.090909090909092, 9.090909090909092]\n"
     ]
    },
    {
     "ename": "NameError",
     "evalue": "name 'fr_acomulada' is not defined",
     "output_type": "error",
     "traceback": [
      "\u001b[0;31m---------------------------------------------------------------------------\u001b[0m",
      "\u001b[0;31mNameError\u001b[0m                                 Traceback (most recent call last)",
      "Cell \u001b[0;32mIn[29], line 22\u001b[0m\n\u001b[1;32m     20\u001b[0m \u001b[38;5;28mprint\u001b[39m(\u001b[38;5;124m'\u001b[39m\u001b[38;5;124mFrec. absoluta: \u001b[39m\u001b[38;5;124m'\u001b[39m, fa_sorted)\n\u001b[1;32m     21\u001b[0m \u001b[38;5;28mprint\u001b[39m(\u001b[38;5;124m'\u001b[39m\u001b[38;5;124mFrecuencia relativa: \u001b[39m\u001b[38;5;124m'\u001b[39m, fr_relativa)\n\u001b[0;32m---> 22\u001b[0m \u001b[38;5;28mprint\u001b[39m(\u001b[38;5;124m'\u001b[39m\u001b[38;5;124mFrecuencia acomulada: \u001b[39m\u001b[38;5;124m'\u001b[39m, \u001b[43mfr_acomulada\u001b[49m)\n\u001b[1;32m     24\u001b[0m data \u001b[38;5;241m=\u001b[39m {\u001b[38;5;124m'\u001b[39m\u001b[38;5;124mClases\u001b[39m\u001b[38;5;124m'\u001b[39m: clases_sorted, \u001b[38;5;124m'\u001b[39m\u001b[38;5;124mF absoluta\u001b[39m\u001b[38;5;124m'\u001b[39m: fa_sorted, \u001b[38;5;124m'\u001b[39m\u001b[38;5;124mF relativa\u001b[39m\u001b[38;5;124m'\u001b[39m: fr_relativa, \u001b[38;5;124m'\u001b[39m\u001b[38;5;124mF acumulada\u001b[39m\u001b[38;5;124m'\u001b[39m: fr_acum}\n\u001b[1;32m     25\u001b[0m df \u001b[38;5;241m=\u001b[39m pd\u001b[38;5;241m.\u001b[39mDataFrame(data)\n",
      "\u001b[0;31mNameError\u001b[0m: name 'fr_acomulada' is not defined"
     ]
    }
   ],
   "source": [
    "\n",
    "# datos_entrada = [1, 2, 2, 3, 3, 3, 4, 4, 4, 4, 5, 5, 5, 5, 5, 5, 5, 5, 5, 5, 4, 4, 4, 4, 3, 3, 3, 2, 2, 1]\n",
    "\n",
    "datos_entrada = 2, 4, 2, 5, 6, 3,9, -1, -4, 5, -3\n",
    "\n",
    "print(len(datos_entrada))\n",
    "\n",
    "clases, fa_absoluta = r.frec_abs(datos_entrada)\n",
    "\n",
    "clases_sorted = i.ordenar_asc(clases)\n",
    "\n",
    "fa_sorted = m.sort_clases_fa(clases, clases_sorted, fa_absoluta)\n",
    "\n",
    "fr_relativa =  g.frecuencia_rel(fa_sorted)\n",
    "\n",
    "fr_acum = j.calcular_frecuencia_a(fr_relativa)\n",
    "\n",
    "import pandas as pd\n",
    "\n",
    "print('Clases: ', clases_sorted)\n",
    "print('Frec. absoluta: ', fa_sorted)\n",
    "print('Frecuencia relativa: ', fr_relativa)\n",
    "print('Frecuencia acomulada: ', fr_acomulada)\n",
    "\n",
    "data = {'Clases': clases_sorted, 'F absoluta': fa_sorted, 'F relativa': fr_relativa, 'F acumulada': fr_acum}\n",
    "df = pd.DataFrame(data)\n",
    "\n",
    "df_ordenado = df.sort_values(by='F absoluta')\n",
    "\n",
    "print(df_ordenado)\n",
    "\n"
   ]
  }
 ],
 "metadata": {
  "kernelspec": {
   "display_name": "Python 3 (ipykernel)",
   "language": "python",
   "name": "python3"
  },
  "language_info": {
   "codemirror_mode": {
    "name": "ipython",
    "version": 3
   },
   "file_extension": ".py",
   "mimetype": "text/x-python",
   "name": "python",
   "nbconvert_exporter": "python",
   "pygments_lexer": "ipython3",
   "version": "3.11.4"
  }
 },
 "nbformat": 4,
 "nbformat_minor": 5
}
