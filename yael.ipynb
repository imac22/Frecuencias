{
 "cells": [
  {
   "cell_type": "code",
   "execution_count": 2,
   "id": "6ce9a4eb-a607-4de5-a2b6-88776c0eb44b",
   "metadata": {},
   "outputs": [],
   "source": [
    "import codigo_base.jose as j\n",
    "import codigo_base.gustavo as g\n",
    "import codigo_base.milagros as m\n",
    "import codigo_base.rosario as r\n",
    "import codigo_base.isai as i\n",
    "import codigo_base.formatear_tabla as ft\n",
    "\n",
    "import codigo_base.lopez as p\n",
    "import codigo_base.ortiz as o"
   ]
  },
  {
   "cell_type": "code",
   "execution_count": 7,
   "id": "9fbe9521-1520-4c3c-a76b-982dd57fe232",
   "metadata": {},
   "outputs": [
    {
     "data": {
      "text/plain": [
       "'\\ndatos_entrada = [1, 2, 2, 3, 3, 3, 4, 4, 4, 4, 5, 5, 5, 5, 5, 5, 5, 5, 5, 5, 4, 4, 4, 4, 3, 3, 3, 2, 2, 1]\\n\\n#datos_entrada = 2, 4, 2, 5, 6, 3, 9, -1, -4, 5, -3\\n#datos_entrada = 2, 4, 2, 5, 6, 3, 9, -1, -4, 5, -3\\n\\nclases, fa_absoluta = r.frec_abs(datos_entrada)\\n\\nclases_sorted = i.ordenar_asc(clases)\\n\\nfa_sorted = m.sort_clases_fa(clases, clases_sorted, fa_absoluta)\\n\\nfr_relativa =  g.frecuencia_rel(fa_sorted)\\n\\nfr_acum = j.calcular_frecuencia_a(fr_relativa)\\n\\ntabla = ft.imptabla(clases_sorted, fa_sorted, fr_relativa, fr_acum)\\n\\nprint (tabla)\\n'"
      ]
     },
     "execution_count": 7,
     "metadata": {},
     "output_type": "execute_result"
    }
   ],
   "source": [
    "'''\n",
    "datos_entrada = [1, 2, 2, 3, 3, 3, 4, 4, 4, 4, 5, 5, 5, 5, 5, 5, 5, 5, 5, 5, 4, 4, 4, 4, 3, 3, 3, 2, 2, 1]\n",
    "\n",
    "#datos_entrada = 2, 4, 2, 5, 6, 3, 9, -1, -4, 5, -3\n",
    "#datos_entrada = 2, 4, 2, 5, 6, 3, 9, -1, -4, 5, -3\n",
    "\n",
    "clases, fa_absoluta = r.frec_abs(datos_entrada)\n",
    "\n",
    "clases_sorted = i.ordenar_asc(clases)\n",
    "\n",
    "fa_sorted = m.sort_clases_fa(clases, clases_sorted, fa_absoluta)\n",
    "\n",
    "fr_relativa =  g.frecuencia_rel(fa_sorted)\n",
    "\n",
    "fr_acum = j.calcular_frecuencia_a(fr_relativa)\n",
    "\n",
    "tabla = ft.imptabla(clases_sorted, fa_sorted, fr_relativa, fr_acum)\n",
    "\n",
    "print (tabla)\n",
    "'''"
   ]
  },
  {
   "cell_type": "code",
   "execution_count": 3,
   "id": "87e7bed7-5849-412b-be7b-12fb722dec7e",
   "metadata": {},
   "outputs": [
    {
     "ename": "NameError",
     "evalue": "name 'clases' is not defined",
     "output_type": "error",
     "traceback": [
      "\u001b[0;31m---------------------------------------------------------------------------\u001b[0m",
      "\u001b[0;31mNameError\u001b[0m                                 Traceback (most recent call last)",
      "Cell \u001b[0;32mIn[3], line 7\u001b[0m\n\u001b[1;32m      1\u001b[0m datos \u001b[38;5;241m=\u001b[39m [\n\u001b[1;32m      2\u001b[0m     \u001b[38;5;124m\"\u001b[39m\u001b[38;5;124mmanzana\u001b[39m\u001b[38;5;124m\"\u001b[39m, \u001b[38;5;124m\"\u001b[39m\u001b[38;5;124mmanzana\u001b[39m\u001b[38;5;124m\"\u001b[39m, \u001b[38;5;124m\"\u001b[39m\u001b[38;5;124mpera\u001b[39m\u001b[38;5;124m\"\u001b[39m, \u001b[38;5;124m\"\u001b[39m\u001b[38;5;124mnaranja\u001b[39m\u001b[38;5;124m\"\u001b[39m, \u001b[38;5;124m\"\u001b[39m\u001b[38;5;124mplátano\u001b[39m\u001b[38;5;124m\"\u001b[39m, \u001b[38;5;124m\"\u001b[39m\u001b[38;5;124mfresa\u001b[39m\u001b[38;5;124m\"\u001b[39m, \u001b[38;5;124m\"\u001b[39m\u001b[38;5;124mkiwi\u001b[39m\u001b[38;5;124m\"\u001b[39m, \u001b[38;5;124m\"\u001b[39m\u001b[38;5;124muvas\u001b[39m\u001b[38;5;124m\"\u001b[39m, \u001b[38;5;124m\"\u001b[39m\u001b[38;5;124mmango\u001b[39m\u001b[38;5;124m\"\u001b[39m, \u001b[38;5;124m\"\u001b[39m\u001b[38;5;124mpiña\u001b[39m\u001b[38;5;124m\"\u001b[39m,\n\u001b[1;32m      3\u001b[0m     \u001b[38;5;124m\"\u001b[39m\u001b[38;5;124mmanzana\u001b[39m\u001b[38;5;124m\"\u001b[39m, \u001b[38;5;124m\"\u001b[39m\u001b[38;5;124marándano\u001b[39m\u001b[38;5;124m\"\u001b[39m, \u001b[38;5;124m\"\u001b[39m\u001b[38;5;124mcereza\u001b[39m\u001b[38;5;124m\"\u001b[39m, \u001b[38;5;124m\"\u001b[39m\u001b[38;5;124mframbuesa\u001b[39m\u001b[38;5;124m\"\u001b[39m, \u001b[38;5;124m\"\u001b[39m\u001b[38;5;124mmelón\u001b[39m\u001b[38;5;124m\"\u001b[39m, \u001b[38;5;124m\"\u001b[39m\u001b[38;5;124msandía\u001b[39m\u001b[38;5;124m\"\u001b[39m, \u001b[38;5;124m\"\u001b[39m\u001b[38;5;124mhigo\u001b[39m\u001b[38;5;124m\"\u001b[39m, \u001b[38;5;124m\"\u001b[39m\u001b[38;5;124mpomelo\u001b[39m\u001b[38;5;124m\"\u001b[39m, \u001b[38;5;124m\"\u001b[39m\u001b[38;5;124mlimón\u001b[39m\u001b[38;5;124m\"\u001b[39m, \u001b[38;5;124m\"\u001b[39m\u001b[38;5;124mlima\u001b[39m\u001b[38;5;124m\"\u001b[39m,\n\u001b[1;32m      4\u001b[0m     \u001b[38;5;124m\"\u001b[39m\u001b[38;5;124mmanzana\u001b[39m\u001b[38;5;124m\"\u001b[39m \n\u001b[1;32m      5\u001b[0m         ]\n\u001b[1;32m      6\u001b[0m mayus \u001b[38;5;241m=\u001b[39m p\u001b[38;5;241m.\u001b[39mformat_list(datos)\n\u001b[0;32m----> 7\u001b[0m clases_sorted \u001b[38;5;241m=\u001b[39m o\u001b[38;5;241m.\u001b[39mclases_str_sort(\u001b[43mclases\u001b[49m)\n\u001b[1;32m      8\u001b[0m clases, fa_absoluta \u001b[38;5;241m=\u001b[39m r\u001b[38;5;241m.\u001b[39mfrec_abs(mayus)\n\u001b[1;32m      9\u001b[0m fa_sorted \u001b[38;5;241m=\u001b[39m m\u001b[38;5;241m.\u001b[39msort_clases_fa(clases, clases_sorted, fa_absoluta)\n",
      "\u001b[0;31mNameError\u001b[0m: name 'clases' is not defined"
     ]
    }
   ],
   "source": [
    "datos = [\n",
    "    \"manzana\", \"manzana\", \"pera\", \"naranja\", \"plátano\", \"fresa\", \"kiwi\", \"uvas\", \"mango\", \"piña\",\n",
    "    \"manzana\", \"arándano\", \"cereza\", \"frambuesa\", \"melón\", \"sandía\", \"higo\", \"pomelo\", \"limón\", \"lima\",\n",
    "    \"manzana\" \n",
    "        ]\n",
    "mayus = p.format_list(datos)\n",
    "\n",
    "clases, fa_absoluta = r.frec_abs(mayus)\n",
    "clases_sorted = o.clases_str_sort(clases)\n",
    "fa_sorted = m.sort_clases_fa(clases, clases_sorted, fa_absoluta)\n",
    "\n",
    "fr_relativa =  g.frecuencia_rel(fa_sorted)\n",
    "\n",
    "fr_acum = j.calcular_frecuencia_a(fr_relativa)\n",
    "\n",
    "tabla = ft.imptabla(clases_sorted, fa_sorted, fr_relativa, fr_acum)\n",
    "\n",
    "print (tabla)"
   ]
  }
 ],
 "metadata": {
  "kernelspec": {
   "display_name": "Python 3 (ipykernel)",
   "language": "python",
   "name": "python3"
  },
  "language_info": {
   "codemirror_mode": {
    "name": "ipython",
    "version": 3
   },
   "file_extension": ".py",
   "mimetype": "text/x-python",
   "name": "python",
   "nbconvert_exporter": "python",
   "pygments_lexer": "ipython3",
   "version": "3.11.4"
  }
 },
 "nbformat": 4,
 "nbformat_minor": 5
}
