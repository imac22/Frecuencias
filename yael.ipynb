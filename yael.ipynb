{
 "cells": [
  {
   "cell_type": "code",
   "execution_count": 5,
   "id": "6ce9a4eb-a607-4de5-a2b6-88776c0eb44b",
   "metadata": {},
   "outputs": [],
   "source": [
    "import codigo_base.jose as j\n",
    "import codigo_base.gustavo as g\n",
    "import codigo_base.milagros as m\n",
    "import codigo_base.rosario as r\n",
    "import codigo_base.isai as i\n",
    "import codigo_base.formatear_tabla as ft\n",
    "\n",
    "import codigo_base.sus as p\n",
    "import codigo_base.ortz as o"
   ]
  },
  {
   "cell_type": "code",
   "execution_count": 6,
   "id": "9fbe9521-1520-4c3c-a76b-982dd57fe232",
   "metadata": {},
   "outputs": [
    {
     "name": "stdout",
     "output_type": "stream",
     "text": [
      "   Clases  F absoluta  F relativa  F acumulada\n",
      "0       1           2    6.666667     6.666667\n",
      "1       2           4   13.333333    20.000000\n",
      "2       3           6   20.000000    40.000000\n",
      "3       4           8   26.666667    66.666667\n",
      "4       5          10   33.333333   100.000000\n"
     ]
    }
   ],
   "source": [
    "\n",
    "datos_entrada = [1, 2, 2, 3, 3, 3, 4, 4, 4, 4, 5, 5, 5, 5, 5, 5, 5, 5, 5, 5, 4, 4, 4, 4, 3, 3, 3, 2, 2, 1]\n",
    "\n",
    "#datos_entrada = 2, 4, 2, 5, 6, 3, 9, -1, -4, 5, -3\n",
    "#datos_entrada = 2, 4, 2, 5, 6, 3, 9, -1, -4, 5, -3\n",
    "\n",
    "clases, fa_absoluta = r.frec_abs(datos_entrada)\n",
    "\n",
    "clases_sorted = i.ordenar_asc(clases)\n",
    "\n",
    "fa_sorted = m.sort_clases_fa(clases, clases_sorted, fa_absoluta)\n",
    "\n",
    "fr_relativa =  g.frecuencia_rel(fa_sorted)\n",
    "\n",
    "fr_acum = j.calcular_frecuencia_a(fr_relativa)\n",
    "\n",
    "tabla = ft.imptabla(clases_sorted, fa_sorted, fr_relativa, fr_acum)\n",
    "\n",
    "print (tabla)"
   ]
  },
  {
   "cell_type": "code",
   "execution_count": 9,
   "id": "87e7bed7-5849-412b-be7b-12fb722dec7e",
   "metadata": {},
   "outputs": [
    {
     "ename": "NameError",
     "evalue": "name 'arreglo' is not defined",
     "output_type": "error",
     "traceback": [
      "\u001b[0;31m---------------------------------------------------------------------------\u001b[0m",
      "\u001b[0;31mNameError\u001b[0m                                 Traceback (most recent call last)",
      "Cell \u001b[0;32mIn[9], line 8\u001b[0m\n\u001b[1;32m      6\u001b[0m mayus \u001b[38;5;241m=\u001b[39m p\u001b[38;5;241m.\u001b[39mformat_list(datos)\n\u001b[1;32m      7\u001b[0m clases, fa_absoluta \u001b[38;5;241m=\u001b[39m r\u001b[38;5;241m.\u001b[39mfrec_abs(mayus)\n\u001b[0;32m----> 8\u001b[0m clases_sorted \u001b[38;5;241m=\u001b[39m \u001b[43mo\u001b[49m\u001b[38;5;241;43m.\u001b[39;49m\u001b[43mclases_str_sort\u001b[49m\u001b[43m(\u001b[49m\u001b[43mclases\u001b[49m\u001b[43m)\u001b[49m\n\u001b[1;32m      9\u001b[0m fa_sorted \u001b[38;5;241m=\u001b[39m m\u001b[38;5;241m.\u001b[39msort_clases_fa(clases, clases_sorted, fa_absoluta)\n\u001b[1;32m     11\u001b[0m fr_relativa \u001b[38;5;241m=\u001b[39m  g\u001b[38;5;241m.\u001b[39mfrecuencia_rel(fa_sorted)\n",
      "File \u001b[0;32m~/Desktop/Frecuencias/codigo_base/ortz.py:3\u001b[0m, in \u001b[0;36mclases_str_sort\u001b[0;34m(clases)\u001b[0m\n\u001b[1;32m      1\u001b[0m \u001b[38;5;28;01mdef\u001b[39;00m \u001b[38;5;21mclases_str_sort\u001b[39m(clases):\n\u001b[0;32m----> 3\u001b[0m     arr_len \u001b[38;5;241m=\u001b[39m \u001b[38;5;28mlen\u001b[39m(\u001b[43marreglo\u001b[49m)\n\u001b[1;32m      5\u001b[0m     \u001b[38;5;28;01mfor\u001b[39;00m i \u001b[38;5;129;01min\u001b[39;00m \u001b[38;5;28mrange\u001b[39m(arr_len):\n\u001b[1;32m      6\u001b[0m         min_idx \u001b[38;5;241m=\u001b[39m i\n",
      "\u001b[0;31mNameError\u001b[0m: name 'arreglo' is not defined"
     ]
    }
   ],
   "source": [
    "datos = [\n",
    "    \"manzana\", \"manzana\", \"pera\", \"naranja\", \"plátano\", \"fresa\", \"kiwi\", \"uvas\", \"mango\", \"piña\",\n",
    "    \"manzana\", \"arándano\", \"cereza\", \"frambuesa\", \"melón\", \"sandía\", \"higo\", \"pomelo\", \"limón\", \"lima\",\n",
    "    \"manzana\" \n",
    "        ]\n",
    "mayus = p.format_list(datos)\n",
    "clases, fa_absoluta = r.frec_abs(mayus)\n",
    "clases_sorted = o.clases_str_sort(clases)\n",
    "fa_sorted = m.sort_clases_fa(clases, clases_sorted, fa_absoluta)\n",
    "\n",
    "fr_relativa =  g.frecuencia_rel(fa_sorted)\n",
    "\n",
    "fr_acum = j.calcular_frecuencia_a(fr_relativa)\n",
    "\n",
    "tabla = ft.imptabla(clases_sorted, fa_sorted, fr_relativa, fr_acum)\n",
    "\n",
    "print (tabla)"
   ]
  }
 ],
 "metadata": {
  "kernelspec": {
   "display_name": "Python 3 (ipykernel)",
   "language": "python",
   "name": "python3"
  },
  "language_info": {
   "codemirror_mode": {
    "name": "ipython",
    "version": 3
   },
   "file_extension": ".py",
   "mimetype": "text/x-python",
   "name": "python",
   "nbconvert_exporter": "python",
   "pygments_lexer": "ipython3",
   "version": "3.11.4"
  }
 },
 "nbformat": 4,
 "nbformat_minor": 5
}
