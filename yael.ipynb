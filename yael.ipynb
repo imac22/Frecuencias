{
 "cells": [
  {
   "cell_type": "code",
   "execution_count": 1,
   "id": "6ce9a4eb-a607-4de5-a2b6-88776c0eb44b",
   "metadata": {},
   "outputs": [],
   "source": [
    "import codigo_base.jose as j\n",
    "import codigo_base.gustavo as g\n",
    "import codigo_base.milagros as m\n",
    "import codigo_base.rosario as r\n",
    "import codigo_base.isai as i\n",
    "import codigo_base.formatear_tabla as ft\n",
    "\n",
    "\n",
    "import codigo_base.lopez as p\n",
    "import codigo_base.ortiz as o\n",
    "import codigo_base.chavez as c\n",
    "import codigo_base.falcon as f"
   ]
  },
  {
   "cell_type": "code",
   "execution_count": 2,
   "id": "9fbe9521-1520-4c3c-a76b-982dd57fe232",
   "metadata": {},
   "outputs": [
    {
     "data": {
      "text/plain": [
       "'\\ndatos_entrada = [1, 2, 2, 3, 3, 3, 4, 4, 4, 4, 5, 5, 5, 5, 5, 5, 5, 5, 5, 5, 4, 4, 4, 4, 3, 3, 3, 2, 2, 1]\\n\\n#datos_entrada = 2, 4, 2, 5, 6, 3, 9, -1, -4, 5, -3\\n#datos_entrada = 2, 4, 2, 5, 6, 3, 9, -1, -4, 5, -3\\n\\nclases, fa_absoluta = r.frec_abs(datos_entrada)\\n\\nclases_sorted = i.ordenar_asc(clases)\\n\\nfa_sorted = m.sort_clases_fa(clases, clases_sorted, fa_absoluta)\\n\\nfr_relativa =  g.frecuencia_rel(fa_sorted)\\n\\nfr_acum = j.calcular_frecuencia_a(fr_relativa)\\n\\ntabla = ft.imptabla(clases_sorted, fa_sorted, fr_relativa, fr_acum)\\n\\nprint (tabla)\\n'"
      ]
     },
     "execution_count": 2,
     "metadata": {},
     "output_type": "execute_result"
    }
   ],
   "source": [
    "'''\n",
    "datos_entrada = [1, 2, 2, 3, 3, 3, 4, 4, 4, 4, 5, 5, 5, 5, 5, 5, 5, 5, 5, 5, 4, 4, 4, 4, 3, 3, 3, 2, 2, 1]\n",
    "\n",
    "#datos_entrada = 2, 4, 2, 5, 6, 3, 9, -1, -4, 5, -3\n",
    "#datos_entrada = 2, 4, 2, 5, 6, 3, 9, -1, -4, 5, -3\n",
    "\n",
    "clases, fa_absoluta = r.frec_abs(datos_entrada)\n",
    "\n",
    "clases_sorted = i.ordenar_asc(clases)\n",
    "\n",
    "fa_sorted = m.sort_clases_fa(clases, clases_sorted, fa_absoluta)\n",
    "\n",
    "fr_relativa =  g.frecuencia_rel(fa_sorted)\n",
    "\n",
    "fr_acum = j.calcular_frecuencia_a(fr_relativa)\n",
    "\n",
    "tabla = ft.imptabla(clases_sorted, fa_sorted, fr_relativa, fr_acum)\n",
    "\n",
    "print (tabla)\n",
    "'''"
   ]
  },
  {
   "cell_type": "code",
   "execution_count": 3,
   "id": "87e7bed7-5849-412b-be7b-12fb722dec7e",
   "metadata": {},
   "outputs": [
    {
     "name": "stdout",
     "output_type": "stream",
     "text": [
      "['ARÁNDANO', 'CEREZA', 'FRAMBUESA', 'FRESA', 'HIGO', 'KIWI', 'LIMA', 'LIMÓN', 'MANGO', 'MANZANA', 'MELÓN', 'NARANJA', 'PERA', 'PIÑA', 'PLÁTANO', 'POMELO', 'SANDÍA', 'UVAS']\n",
      "['MANZANA', 'PERA', 'NARANJA', 'PLÁTANO', 'FRESA', 'KIWI', 'UVAS', 'MANGO', 'PIÑA', 'ARÁNDANO', 'CEREZA', 'FRAMBUESA', 'MELÓN', 'SANDÍA', 'HIGO', 'POMELO', 'LIMÓN', 'LIMA']\n",
      "       Clases  F absoluta  F relativa  F acumulada\n",
      "0    ARÁNDANO           1    4.761905     4.761905\n",
      "1      CEREZA           1    4.761905     9.523810\n",
      "2   FRAMBUESA           1    4.761905    14.285714\n",
      "3       FRESA           1    4.761905    19.047619\n",
      "4        HIGO           1    4.761905    23.809524\n",
      "5        KIWI           1    4.761905    28.571429\n",
      "6        LIMA           1    4.761905    33.333333\n",
      "7       LIMÓN           1    4.761905    38.095238\n",
      "8       MANGO           1    4.761905    42.857143\n",
      "9     MANZANA           4   19.047619    61.904762\n",
      "10      MELÓN           1    4.761905    66.666667\n",
      "11    NARANJA           1    4.761905    71.428571\n",
      "12       PERA           1    4.761905    76.190476\n",
      "13       PIÑA           1    4.761905    80.952381\n",
      "14    PLÁTANO           1    4.761905    85.714286\n",
      "15     POMELO           1    4.761905    90.476190\n",
      "16     SANDÍA           1    4.761905    95.238095\n",
      "17       UVAS           1    4.761905   100.000000\n"
     ]
    }
   ],
   "source": [
    "datos = [\n",
    "    \"manzana\", \"manzana\", \"pera\", \"naranja\", \"plátano\", \"fresa\", \"kiwi\", \"uvas\", \"mango\", \"piña\",\n",
    "    \"manzana\", \"arándano\", \"cereza\", \"frambuesa\", \"melón\", \"sandía\", \"higo\", \"pomelo\", \"limón\", \"lima\",\n",
    "    \"manzana\" \n",
    "        ]\n",
    "\n",
    "clases, fa_absoluta = r.frec_abs(datos)\n",
    "print(clases)\n",
    "\n",
    "clases_sorted = o.clases_str_sort(clases)\n",
    "print(clases)\n",
    "\n",
    "fa_sorted = m.sort_clases_fa(clases, clases_sorted, fa_absoluta)\n",
    "\n",
    "\n",
    "fr_relativa =  g.frecuencia_rel(fa_sorted)\n",
    "\n",
    "fr_acum = j.calcular_frecuencia_a(fr_relativa)\n",
    "\n",
    "tabla = ft.imptabla(clases_sorted, fa_sorted, fr_relativa, fr_acum)\n",
    "\n",
    "print (tabla)"
   ]
  },
  {
   "cell_type": "code",
   "execution_count": 14,
   "id": "5fcb3e9c-d434-4410-9aac-0daec089fe5d",
   "metadata": {},
   "outputs": [
    {
     "name": "stdout",
     "output_type": "stream",
     "text": [
      "Límites Inferiores: [0.0, 0.33, 0.66, 0.99, 1.32]\n",
      "Límites Superiores: [0.33, 0.66, 0.99, 1.32, 1.65]\n",
      "Marcas de Clase: [0.165, 0.495, 0.825, 1.155, 1.485]\n"
     ]
    }
   ],
   "source": [
    "datos = [0, 0, 0.33, 0.33, 0.33, 0.33, 0.66, 0.66, 0.66, 0.66, 0.99, 0.99, 0.99, 1.32,\n",
    "         1.32, 1.32, 1.65, 1.65, 1.65, 1.65]\n",
    "lim_inf, lim_sup, mrks = c\n",
    ".clases_grouped(datos)\n",
    "print(\"Límites Inferiores:\", lim_inf)\n",
    "print(\"Límites Superiores:\", lim_sup)\n",
    "print(\"Marcas de Clase:\", mrks)"
   ]
  }
 ],
 "metadata": {
  "kernelspec": {
   "display_name": "Python 3 (ipykernel)",
   "language": "python",
   "name": "python3"
  },
  "language_info": {
   "codemirror_mode": {
    "name": "ipython",
    "version": 3
   },
   "file_extension": ".py",
   "mimetype": "text/x-python",
   "name": "python",
   "nbconvert_exporter": "python",
   "pygments_lexer": "ipython3",
   "version": "3.11.4"
  }
 },
 "nbformat": 4,
 "nbformat_minor": 5
}
