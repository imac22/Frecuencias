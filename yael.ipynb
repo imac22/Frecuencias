{
 "cells": [
  {
   "cell_type": "code",
   "execution_count": 1,
   "id": "6ce9a4eb-a607-4de5-a2b6-88776c0eb44b",
   "metadata": {},
   "outputs": [],
   "source": [
    "import codigo_base.jose as j\n",
    "import codigo_base.gustavo as g\n",
    "import codigo_base.milagros as m\n",
    "import codigo_base.rosario as r\n",
    "import codigo_base.isai as i\n",
    "import codigo_base.formatear_tabla as ft\n",
    "\n",
    "\n",
    "import codigo_base.lopez as p\n",
    "import codigo_base.ortiz as o\n",
    "import codigo_base.chavez as c\n",
    "import codigo_base.falcon as f\n",
    "import codigo_base.chema as che"
   ]
  },
  {
   "cell_type": "code",
   "execution_count": 7,
   "id": "9fbe9521-1520-4c3c-a76b-982dd57fe232",
   "metadata": {},
   "outputs": [
    {
     "name": "stdout",
     "output_type": "stream",
     "text": [
      "       Clases  F absoluta  F relativa  F acumulada\n",
      "0    arándano           4   19.047619    19.047619\n",
      "1      cereza           1    4.761905    23.809524\n",
      "2   frambuesa           1    4.761905    28.571429\n",
      "3       fresa           1    4.761905    33.333333\n",
      "4        higo           1    4.761905    38.095238\n",
      "5        kiwi           1    4.761905    42.857143\n",
      "6        lima           1    4.761905    47.619048\n",
      "7       limón           1    4.761905    52.380952\n",
      "8       mango           1    4.761905    57.142857\n",
      "9     manzana           1    4.761905    61.904762\n",
      "10      melón           1    4.761905    66.666667\n",
      "11    naranja           1    4.761905    71.428571\n",
      "12       pera           1    4.761905    76.190476\n",
      "13       piña           1    4.761905    80.952381\n",
      "14    plátano           1    4.761905    85.714286\n",
      "15     pomelo           1    4.761905    90.476190\n",
      "16     sandía           1    4.761905    95.238095\n",
      "17       uvas           1    4.761905   100.000000\n"
     ]
    }
   ],
   "source": [
    "'''\n",
    "datos_entrada = [1, 2, 2, 3, 3, 3, 4, 4, 4, 4, 5, 5, 5, 5, 5, 5, 5, 5, 5, 5, 4, 4, 4, 4, 3, 3, 3, 2, 2, 1]\n",
    "\n",
    "#datos_entrada = 2, 4, 2, 5, 6, 3, 9, -1, -4, 5, -3\n",
    "#datos_entrada = 2, 4, 2, 5, 6, 3, 9, -1, -4, 5, -3\n",
    "\n",
    "clases, fa_absoluta = r.frec_abs(datos_entrada)\n",
    "\n",
    "clases_sorted = i.ordenar_asc(clases)\n",
    "\n",
    "fa_sorted = m.sort_clases_fa(clases, clases_sorted, fa_absoluta)\n",
    "\n",
    "fr_relativa =  g.frecuencia_rel(fa_sorted)\n",
    "\n",
    "fr_acum = j.calcular_frecuencia_a(fr_relativa)\n",
    "\n",
    "tabla = ft.imptabla(clases_sorted, fa_sorted, fr_relativa, fr_acum)\n",
    "\n",
    "print (tabla)\n",
    "'''"
   ]
  },
  {
   "cell_type": "code",
   "execution_count": 3,
   "id": "87e7bed7-5849-412b-be7b-12fb722dec7e",
   "metadata": {},
   "outputs": [
    {
     "name": "stdout",
     "output_type": "stream",
     "text": [
      "['manzana', 'pera', 'naranja', 'plátano', 'fresa', 'kiwi', 'uvas', 'mango', 'piña', 'arándano', 'cereza', 'frambuesa', 'melón', 'sandía', 'higo', 'pomelo', 'limón', 'lima']\n",
      "['manzana', 'pera', 'naranja', 'plátano', 'fresa', 'kiwi', 'uvas', 'mango', 'piña', 'arándano', 'cereza', 'frambuesa', 'melón', 'sandía', 'higo', 'pomelo', 'limón', 'lima']\n",
      "       Clases  F absoluta  F relativa  F acumulada\n",
      "0    arándano           1    4.761905     4.761905\n",
      "1      cereza           1    4.761905     9.523810\n",
      "2   frambuesa           1    4.761905    14.285714\n",
      "3       fresa           1    4.761905    19.047619\n",
      "4        higo           1    4.761905    23.809524\n",
      "5        kiwi           1    4.761905    28.571429\n",
      "6        lima           1    4.761905    33.333333\n",
      "7       limón           1    4.761905    38.095238\n",
      "8       mango           1    4.761905    42.857143\n",
      "9     manzana           4   19.047619    61.904762\n",
      "10      melón           1    4.761905    66.666667\n",
      "11    naranja           1    4.761905    71.428571\n",
      "12       pera           1    4.761905    76.190476\n",
      "13       piña           1    4.761905    80.952381\n",
      "14    plátano           1    4.761905    85.714286\n",
      "15     pomelo           1    4.761905    90.476190\n",
      "16     sandía           1    4.761905    95.238095\n",
      "17       uvas           1    4.761905   100.000000\n"
     ]
    }
   ],
   "source": [
    "datos = [\n",
    "    \"manzana\", \"manzana\", \"pera\", \"naranja\", \"plátano\", \"fresa\", \"kiwi\", \"uvas\", \"mango\", \"piña\",\n",
    "    \"manzana\", \"arándano\", \"cereza\", \"frambuesa\", \"melón\", \"sandía\", \"higo\", \"pomelo\", \"limón\", \"lima\",\n",
    "    \"manzana\" \n",
    "        ]\n",
    "\n",
    "clases, fa_absoluta = r.frec_abs(datos)\n",
    "print(clases)\n",
    "\n",
    "clases_sorted = o.clases_str_sort(clases)\n",
    "print(clases)\n",
    "\n",
    "fa_sorted = m.sort_clases_fa(clases, clases_sorted, fa_absoluta)\n",
    "\n",
    "\n",
    "fr_relativa =  g.frecuencia_rel(fa_sorted)\n",
    "\n",
    "fr_acum = j.calcular_frecuencia_a(fr_relativa)\n",
    "\n",
    "tabla = ft.imptabla(clases_sorted, fa_sorted, fr_relativa, fr_acum)\n",
    "\n",
    "print (tabla)"
   ]
  },
  {
   "cell_type": "code",
   "execution_count": 2,
   "id": "5fcb3e9c-d434-4410-9aac-0daec089fe5d",
   "metadata": {},
   "outputs": [
    {
     "name": "stdout",
     "output_type": "stream",
     "text": [
      "Límites Inferiores: [0.0, 0.33, 0.66, 0.99, 1.32]\n",
      "Límites Superiores: [0.33, 0.66, 0.99, 1.32, 1.65]\n",
      "Marcas de Clase: [0.165, 0.495, 0.825, 1.155, 1.485]\n",
      "[0, 0.33, 0.66, 0.99, 1.32, 1.65]\n",
      "[2, 4, 4, 3, 3, 4]\n"
     ]
    },
    {
     "ename": "TypeError",
     "evalue": "'<=' not supported between instances of 'list' and 'int'",
     "output_type": "error",
     "traceback": [
      "\u001b[0;31m---------------------------------------------------------------------------\u001b[0m",
      "\u001b[0;31mTypeError\u001b[0m                                 Traceback (most recent call last)",
      "Cell \u001b[0;32mIn[2], line 12\u001b[0m\n\u001b[1;32m      9\u001b[0m \u001b[38;5;28mprint\u001b[39m (clases)\n\u001b[1;32m     10\u001b[0m \u001b[38;5;28mprint\u001b[39m (fa_absoluta)\n\u001b[0;32m---> 12\u001b[0m fa \u001b[38;5;241m=\u001b[39m \u001b[43mche\u001b[49m\u001b[38;5;241;43m.\u001b[39;49m\u001b[43mfa_grouped\u001b[49m\u001b[43m(\u001b[49m\u001b[43mlim_inf\u001b[49m\u001b[43m,\u001b[49m\u001b[43m \u001b[49m\u001b[43mlim_sup\u001b[49m\u001b[43m,\u001b[49m\u001b[43m \u001b[49m\u001b[43mdatos\u001b[49m\u001b[43m)\u001b[49m\n\u001b[1;32m     13\u001b[0m \u001b[38;5;28mprint\u001b[39m(fa)\n\u001b[1;32m     14\u001b[0m \u001b[38;5;124;03m'''\u001b[39;00m\n\u001b[1;32m     15\u001b[0m \u001b[38;5;124;03mclases_sorted = i.ordenar_asc(clases)\u001b[39;00m\n\u001b[1;32m     16\u001b[0m \n\u001b[0;32m   (...)\u001b[0m\n\u001b[1;32m     25\u001b[0m \u001b[38;5;124;03mprint (tabla)\u001b[39;00m\n\u001b[1;32m     26\u001b[0m \u001b[38;5;124;03m'''\u001b[39;00m\n",
      "File \u001b[0;32m~/Documents/chema/Frecuencias/codigo_base/chema.py:7\u001b[0m, in \u001b[0;36mfa_grouped\u001b[0;34m(lim_inf, lim_sup, datos)\u001b[0m\n\u001b[1;32m      5\u001b[0m \u001b[38;5;28;01mfor\u001b[39;00m dato \u001b[38;5;129;01min\u001b[39;00m datos:\n\u001b[1;32m      6\u001b[0m     \u001b[38;5;28;01mfor\u001b[39;00m i \u001b[38;5;129;01min\u001b[39;00m \u001b[38;5;28mrange\u001b[39m(nclases):\n\u001b[0;32m----> 7\u001b[0m         \u001b[38;5;28;01mif\u001b[39;00m \u001b[43mlim_inf\u001b[49m\u001b[43m \u001b[49m\u001b[38;5;241;43m<\u001b[39;49m\u001b[38;5;241;43m=\u001b[39;49m\u001b[43m \u001b[49m\u001b[43mdato\u001b[49m\u001b[43m \u001b[49m\u001b[38;5;241;43m<\u001b[39;49m\u001b[43m \u001b[49m\u001b[43mlim_sup\u001b[49m:\n\u001b[1;32m      8\u001b[0m             freq_absoluta[i] \u001b[38;5;241m+\u001b[39m\u001b[38;5;241m=\u001b[39m \u001b[38;5;241m1\u001b[39m\n\u001b[1;32m      9\u001b[0m             \u001b[38;5;28;01mbreak\u001b[39;00m\n",
      "\u001b[0;31mTypeError\u001b[0m: '<=' not supported between instances of 'list' and 'int'"
     ]
    }
   ],
   "source": [
    "datos = [0, 0, 0.33, 0.33, 0.33, 0.33, 0.66, 0.66, 0.66, 0.66, 0.99, 0.99, 0.99, 1.32,\n",
    "         1.32, 1.32, 1.65, 1.65, 1.65, 1.65]\n",
    "lim_inf, lim_sup, mrks = c.clases_grouped(datos)\n",
    "print(\"Límites Inferiores:\", lim_inf)\n",
    "print(\"Límites Superiores:\", lim_sup)\n",
    "print(\"Marcas de Clase:\", mrks)\n",
    "\n",
    "clases, fa_absoluta = r.frec_abs(datos)\n",
    "print (clases)\n",
    "print (fa_absoluta)\n",
    "\n",
    "fa = che.fa_grouped(lim_inf, lim_sup, datos)\n",
    "print(fa)\n",
    "'''\n",
    "clases_sorted = i.ordenar_asc(clases)\n",
    "\n",
    "fa_sorted = m.sort_clases_fa(clases, clases_sorted, fa_absoluta)\n",
    "\n",
    "fr_relativa =  g.frecuencia_rel(fa_sorted)\n",
    "\n",
    "fr_acum = j.calcular_frecuencia_a(fr_relativa)\n",
    "\n",
    "tabla = ft.imptabla(clases_sorted, fa_sorted, fr_relativa, fr_acum)\n",
    "\n",
    "print (tabla)\n",
    "'''"
   ]
  },
  {
   "cell_type": "code",
   "execution_count": null,
   "id": "a0e2512d-d20b-4df3-94cc-0b47393938c8",
   "metadata": {},
   "outputs": [],
   "source": []
  }
 ],
 "metadata": {
  "kernelspec": {
   "display_name": "Python 3 (ipykernel)",
   "language": "python",
   "name": "python3"
  },
  "language_info": {
   "codemirror_mode": {
    "name": "ipython",
    "version": 3
   },
   "file_extension": ".py",
   "mimetype": "text/x-python",
   "name": "python",
   "nbconvert_exporter": "python",
   "pygments_lexer": "ipython3",
   "version": "3.11.4"
  }
 },
 "nbformat": 4,
 "nbformat_minor": 5
}
