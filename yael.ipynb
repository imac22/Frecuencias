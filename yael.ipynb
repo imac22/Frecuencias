{
 "cells": [
  {
   "cell_type": "code",
   "execution_count": 19,
   "id": "6ce9a4eb-a607-4de5-a2b6-88776c0eb44b",
   "metadata": {},
   "outputs": [],
   "source": [
    "import codigo_base.jose as j\n",
    "import codigo_base.gustavo as g\n",
    "import codigo_base.milagros as m\n",
    "import codigo_base.rosario as r\n",
    "import codigo_base.isai as i"
   ]
  },
  {
   "cell_type": "code",
   "execution_count": 21,
   "id": "9fbe9521-1520-4c3c-a76b-982dd57fe232",
   "metadata": {},
   "outputs": [
    {
     "name": "stdout",
     "output_type": "stream",
     "text": [
      "Frecuencia acomulada:  [6.666666666666667, 20.0, 40.0, 66.66666666666667, 100.0]\n"
     ]
    }
   ],
   "source": [
    "\n",
    "datos_entrada = [0, 0, 5, 7, 6, 4, 5, 2, 2, 5, 7]\n",
    "\n",
    "\n",
    "clases, fa_absoluta = r.frec_abs(datos_entrada)\n",
    "\n",
    "clases_sorted = i.ordenar_asc(clases)\n",
    "\n",
    "fa_sorted = m.sort_clases_fa(clases, clases_sorted, fa_absoluta)\n",
    "\n",
    "fr_relativa =  g.calcular_frecuencia_r(fa_sorted)\n",
    "\n",
    "fr_acum = j.calcular_frecuencia_a(fr_relativa)\n",
    "\n",
    "\n",
    "#Imprimir datos\n",
    "print('La Clases: ', clases_sorted)\n",
    "print(\"\")\n",
    "print('La Frecuencia absoluta: ', fa_sorted)\n",
    "print(\"\")\n",
    "print('La Frecuencia relativa', fr_relativa)\n",
    "print(\"\")\n",
    "print('La Frecuencia acumulada',fr_acum)"
   ]
  },
  {
   "cell_type": "code",
   "execution_count": null,
   "id": "46a662e6-4d38-4aa0-8188-770e76c86767",
   "metadata": {},
   "outputs": [],
   "source": []
  }
 ],
 "metadata": {
  "kernelspec": {
   "display_name": "Python 3 (ipykernel)",
   "language": "python",
   "name": "python3"
  },
  "language_info": {
   "codemirror_mode": {
    "name": "ipython",
    "version": 3
   },
   "file_extension": ".py",
   "mimetype": "text/x-python",
   "name": "python",
   "nbconvert_exporter": "python",
   "pygments_lexer": "ipython3",
   "version": "3.11.4"
  }
 },
 "nbformat": 4,
 "nbformat_minor": 5
}
