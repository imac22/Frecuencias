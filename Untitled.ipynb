{
 "cells": [
  {
   "cell_type": "code",
   "execution_count": 19,
   "id": "6ce9a4eb-a607-4de5-a2b6-88776c0eb44b",
   "metadata": {},
   "outputs": [],
   "source": [
    "import codigo_base.jose as j"
   ]
  },
  {
   "cell_type": "code",
   "execution_count": 21,
   "id": "9fbe9521-1520-4c3c-a76b-982dd57fe232",
   "metadata": {},
   "outputs": [
    {
     "name": "stdout",
     "output_type": "stream",
     "text": [
      "Frecuencia acomulada:  [6.666666666666667, 20.0, 40.0, 66.66666666666667, 100.0]\n"
     ]
    }
   ],
   "source": [
    "\n",
    "fr_acomulada = j.calc_fa([6.666666666666667, 13.333333333333334, 20.0, 26.666666666666668, 33.33333333333333])\n",
    "\n",
    "print('Frecuencia acomulada: ', fr_acomulada)"
   ]
  },
  {
   "cell_type": "code",
   "execution_count": null,
   "id": "46a662e6-4d38-4aa0-8188-770e76c86767",
   "metadata": {},
   "outputs": [],
   "source": []
  }
 ],
 "metadata": {
  "kernelspec": {
   "display_name": "Python 3 (ipykernel)",
   "language": "python",
   "name": "python3"
  },
  "language_info": {
   "codemirror_mode": {
    "name": "ipython",
    "version": 3
   },
   "file_extension": ".py",
   "mimetype": "text/x-python",
   "name": "python",
   "nbconvert_exporter": "python",
   "pygments_lexer": "ipython3",
   "version": "3.11.4"
  }
 },
 "nbformat": 4,
 "nbformat_minor": 5
}
