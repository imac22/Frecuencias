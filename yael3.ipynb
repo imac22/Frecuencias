{
 "cells": [
  {
   "cell_type": "code",
   "execution_count": 1,
   "id": "a85256bb-7f1c-4fac-866d-ef3209b8959c",
   "metadata": {},
   "outputs": [
    {
     "ename": "NameError",
     "evalue": "name 'plot_hist' is not defined",
     "output_type": "error",
     "traceback": [
      "\u001b[0;31m---------------------------------------------------------------------------\u001b[0m",
      "\u001b[0;31mNameError\u001b[0m                                 Traceback (most recent call last)",
      "Cell \u001b[0;32mIn[1], line 8\u001b[0m\n\u001b[1;32m      5\u001b[0m marcas_texto \u001b[38;5;241m=\u001b[39m [\u001b[38;5;124m\"\u001b[39m\u001b[38;5;124mCoca\u001b[39m\u001b[38;5;124m\"\u001b[39m, \u001b[38;5;124m\"\u001b[39m\u001b[38;5;124mCoca Ligth\u001b[39m\u001b[38;5;124m\"\u001b[39m, \u001b[38;5;124m\"\u001b[39m\u001b[38;5;124mManzanita\u001b[39m\u001b[38;5;124m\"\u001b[39m, \u001b[38;5;124m\"\u001b[39m\u001b[38;5;124mSprite\u001b[39m\u001b[38;5;124m\"\u001b[39m, \u001b[38;5;124m\"\u001b[39m\u001b[38;5;124mMirinda\u001b[39m\u001b[38;5;124m\"\u001b[39m, \u001b[38;5;124m\"\u001b[39m\u001b[38;5;124mJarrito rojo\u001b[39m\u001b[38;5;124m\"\u001b[39m]\n\u001b[1;32m      7\u001b[0m \u001b[38;5;66;03m# Imprimir la función plot_hist\u001b[39;00m\n\u001b[0;32m----> 8\u001b[0m histograma \u001b[38;5;241m=\u001b[39m \u001b[43mplot_hist\u001b[49m(marcas_clase, frecuencias, marcas_texto)\n\u001b[1;32m      9\u001b[0m poligono \u001b[38;5;241m=\u001b[39m plot_poligono(marcas_clase, frecuencias, marcas_texto)\n\u001b[1;32m     10\u001b[0m barras \u001b[38;5;241m=\u001b[39m plot_barras(marcas_clase, frecuencias, marcas_texto)\n",
      "\u001b[0;31mNameError\u001b[0m: name 'plot_hist' is not defined"
     ]
    }
   ],
   "source": [
    "# Llamada a la función plot_hist con los datos proporcionados\n",
    "marcas_clase = [1, 2, 3, 4, 5, 6]  # Datos del eje x\n",
    "frecuencias = [9, 6, 4, 3, 3, 5]  # Datos del eje y\n",
    "fa_acumulada = [9, 15, 19, 22, 25, 30]\n",
    "marcas_texto = [\"Coca\", \"Coca Ligth\", \"Manzanita\", \"Sprite\", \"Mirinda\", \"Jarrito rojo\"]\n",
    "\n",
    "# Imprimir la función plot_hist\n",
    "histograma = plot_hist(marcas_clase, frecuencias, marcas_texto)\n",
    "poligono = plot_poligono(marcas_clase, frecuencias, marcas_texto)\n",
    "barras = plot_barras(marcas_clase, frecuencias, marcas_texto)\n",
    "ojiva = plot_ojiva(marcas_clase, fa_acumulada, marcas_texto)\n",
    "pastel = plot_pie(frecuencias, marcas_texto)"
   ]
  }
 ],
 "metadata": {
  "kernelspec": {
   "display_name": "Python 3 (ipykernel)",
   "language": "python",
   "name": "python3"
  },
  "language_info": {
   "codemirror_mode": {
    "name": "ipython",
    "version": 3
   },
   "file_extension": ".py",
   "mimetype": "text/x-python",
   "name": "python",
   "nbconvert_exporter": "python",
   "pygments_lexer": "ipython3",
   "version": "3.11.4"
  }
 },
 "nbformat": 4,
 "nbformat_minor": 5
}
