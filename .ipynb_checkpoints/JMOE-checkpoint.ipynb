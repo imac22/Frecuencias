{
 "cells": [
  {
   "cell_type": "code",
   "execution_count": 3,
   "id": "afa479b3-bd7e-4cc7-b27d-e853992a99be",
   "metadata": {},
   "outputs": [
    {
     "name": "stdout",
     "output_type": "stream",
     "text": [
      "    Clases  F absoluta  F relativa  F acumulada\n",
      "0      250           1    3.333333     3.333333\n",
      "1      260           2    6.666667    10.000000\n",
      "2      270           1    3.333333    13.333333\n",
      "3      300           1    3.333333    16.666667\n",
      "4      330           3   10.000000    26.666667\n",
      "5      340           1    3.333333    30.000000\n",
      "6      360           1    3.333333    33.333333\n",
      "7      380           1    3.333333    36.666667\n",
      "8      390           1    3.333333    40.000000\n",
      "9      400           1    3.333333    43.333333\n",
      "10     410           1    3.333333    46.666667\n",
      "11     420           1    3.333333    50.000000\n",
      "12     440           1    3.333333    53.333333\n",
      "13     460           1    3.333333    56.666667\n",
      "14     470           1    3.333333    60.000000\n",
      "15     500           1    3.333333    63.333333\n",
      "16     510           2    6.666667    70.000000\n",
      "17     530           2    6.666667    76.666667\n",
      "18     540           1    3.333333    80.000000\n",
      "19     580           1    3.333333    83.333333\n",
      "20     630           1    3.333333    86.666667\n",
      "21     740           1    3.333333    90.000000\n",
      "22     750           1    3.333333    93.333333\n",
      "23     770           1    3.333333    96.666667\n",
      "24     790           1    3.333333   100.000000\n"
     ]
    },
    {
     "ename": "NameError",
     "evalue": "name 'ca' is not defined",
     "output_type": "error",
     "traceback": [
      "\u001b[0;31m---------------------------------------------------------------------------\u001b[0m",
      "\u001b[0;31mNameError\u001b[0m                                 Traceback (most recent call last)",
      "Cell \u001b[0;32mIn[3], line 46\u001b[0m\n\u001b[1;32m     43\u001b[0m labely \u001b[38;5;241m=\u001b[39m \u001b[38;5;124m\"\u001b[39m\u001b[38;5;124mConsumo sandwitches\u001b[39m\u001b[38;5;124m\"\u001b[39m\n\u001b[1;32m     44\u001b[0m titulo \u001b[38;5;241m=\u001b[39m \u001b[38;5;124m\"\u001b[39m\u001b[38;5;124mCalorias\u001b[39m\u001b[38;5;124m\"\u001b[39m\n\u001b[0;32m---> 46\u001b[0m histograma \u001b[38;5;241m=\u001b[39m \u001b[43mca\u001b[49m\u001b[38;5;241m.\u001b[39mplot_hist(clases, fa_sorted, marcas_texto, labelx, labely, titulo)\n\u001b[1;32m     47\u001b[0m poligono \u001b[38;5;241m=\u001b[39m me\u001b[38;5;241m.\u001b[39mplot_poligono(clases,  fr_acum, marcas_texto, labelx, labely, titulo)\n\u001b[1;32m     48\u001b[0m \u001b[38;5;28;01mimport\u001b[39;00m \u001b[38;5;21;01mcodigo_base\u001b[39;00m\u001b[38;5;21;01m.\u001b[39;00m\u001b[38;5;21;01mmontaño\u001b[39;00m \u001b[38;5;28;01mas\u001b[39;00m \u001b[38;5;21;01mme\u001b[39;00m\n",
      "\u001b[0;31mNameError\u001b[0m: name 'ca' is not defined"
     ]
    }
   ],
   "source": [
    "import codigo_base.chavez as c\n",
    "import codigo_base.fr as fr\n",
    "import codigo_base.fa as fa\n",
    "import codigo_base.chema as che\n",
    "import codigo_base.escamilla as esc\n",
    "import codigo_base.isai as i\n",
    "\n",
    "import codigo_base.jose as j\n",
    "import codigo_base.gustavo as g\n",
    "import codigo_base.milagros as m\n",
    "import codigo_base.rosario as r\n",
    "import codigo_base.formatear_tabla as ft\n",
    "import codigo_base.lopez as p\n",
    "import codigo_base.ortiz as o\n",
    "import codigo_base.falcon as f\n",
    "\n",
    "# Graficas\n",
    "import codigo_base.reyes as re\n",
    "import codigo_base.montaño as me\n",
    "import codigo_base.caracas as ca\n",
    "import codigo_base.paz as pa\n",
    "import codigo_base.atanacio as at\n",
    "import codigo_base.barras as ba\n",
    "\n",
    "datos = [250, 790, 470, 510, 500, 330,\n",
    "         300, 750, 580, 740, 420, 260,\n",
    "         440, 770, 400, 540, 530, 330,\n",
    "         390, 380, 340, 460, 530, 260,\n",
    "         410, 360, 270, 510, 630, 330]\n",
    "\n",
    "clases, fa_absoluta = r.frec_abs(datos)\n",
    "clases_sorted = o.clases_str_sort(clases)\n",
    "\n",
    "fa_sorted = m.sort_clases_fa(clases, clases_sorted, fa_absoluta)\n",
    "\n",
    "\n",
    "fr_relativa =  g.frecuencia_rel(fa_sorted)\n",
    "\n",
    "fr_acum = j.calcular_frecuencia_a(fr_relativa)\n",
    "\n",
    "tabla = ft.imptabla(clases_sorted, fa_sorted, fr_relativa, fr_acum)\n",
    "\n",
    "print (tabla)\n",
    "marcas_texto = clases_sorted\n",
    "\n",
    "\n",
    "labelx = \"Nutricion\"\n",
    "labely = \"Consumo sandwitches\"\n",
    "titulo = \"Calorias\"\n",
    "\n",
    "histograma = ca.plot_hist(clases, fa_sorted, marcas_texto, labelx, labely, titulo)\n",
    "poligono = me.plot_poligono(clases,  fr_acum, marcas_texto, labelx, labely, titulo)\n",
    "import codigo_base.montaño as me\n",
    "import codigo_base.caracas as ca\n",
    "import codigo_base.paz as pa\n",
    "import codigo_base.atanacio as at\n",
    "import codigo_base.barras as ba"
   ]
  }
 ],
 "metadata": {
  "kernelspec": {
   "display_name": "Python 3 (ipykernel)",
   "language": "python",
   "name": "python3"
  },
  "language_info": {
   "codemirror_mode": {
    "name": "ipython",
    "version": 3
   },
   "file_extension": ".py",
   "mimetype": "text/x-python",
   "name": "python",
   "nbconvert_exporter": "python",
   "pygments_lexer": "ipython3",
   "version": "3.11.4"
  }
 },
 "nbformat": 4,
 "nbformat_minor": 5
}
