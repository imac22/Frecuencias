{
 "cells": [
  {
   "cell_type": "code",
   "execution_count": 5,
   "id": "6ce9a4eb-a607-4de5-a2b6-88776c0eb44b",
   "metadata": {},
   "outputs": [],
   "source": [
    "import codigo_base.jose as j\n",
    "import codigo_base.gustavo as g\n",
    "import codigo_base.milagros as m\n",
    "import codigo_base.rosario as r\n",
    "import codigo_base.isai as i\n",
    "import codigo_base.formatear_tabla as ft\n",
    "\n",
    "import codigo_base.sus as p\n",
    "import codigo_base.ortz as o"
   ]
  },
  {
   "cell_type": "code",
   "execution_count": 4,
   "id": "9fbe9521-1520-4c3c-a76b-982dd57fe232",
   "metadata": {},
   "outputs": [
    {
     "name": "stdout",
     "output_type": "stream",
     "text": [
      "   Clases  F absoluta  F relativa  F acumulada\n",
      "0       1           2    6.666667     6.666667\n",
      "1       2           4   13.333333    20.000000\n",
      "2       3           6   20.000000    40.000000\n",
      "3       4           8   26.666667    66.666667\n",
      "4       5          10   33.333333   100.000000\n"
     ]
    }
   ],
   "source": [
    "\n",
    "datos_entrada = [1, 2, 2, 3, 3, 3, 4, 4, 4, 4, 5, 5, 5, 5, 5, 5, 5, 5, 5, 5, 4, 4, 4, 4, 3, 3, 3, 2, 2, 1]\n",
    "\n",
    "#datos_entrada = 2, 4, 2, 5, 6, 3, 9, -1, -4, 5, -3\n",
    "#datos_entrada = 2, 4, 2, 5, 6, 3, 9, -1, -4, 5, -3\n",
    "\n",
    "clases, fa_absoluta = r.frec_abs(datos_entrada)\n",
    "\n",
    "clases_sorted = i.ordenar_asc(clases)\n",
    "\n",
    "fa_sorted = m.sort_clases_fa(clases, clases_sorted, fa_absoluta)\n",
    "\n",
    "fr_relativa =  g.frecuencia_rel(fa_sorted)\n",
    "\n",
    "fr_acum = j.calcular_frecuencia_a(fr_relativa)\n",
    "\n",
    "tabla = ft.imptabla(clases_sorted, fa_sorted, fr_relativa, fr_acum)\n",
    "\n",
    "print (tabla)"
   ]
  },
  {
   "cell_type": "code",
   "execution_count": 5,
   "id": "b8716c93-4a75-4249-a156-29051eb9b77a",
   "metadata": {},
   "outputs": [
    {
     "name": "stdout",
     "output_type": "stream",
     "text": [
      " |  1  |  2  |  6.67  |  6.67  | \n",
      " |  2  |  4  |  13.33  |  20.0  | \n",
      " |  3  |  6  |  20.0  |  40.0  | \n",
      " |  4  |  8  |  26.67  |  66.67  | \n",
      " |  5  |  10  |  33.33  |  100.0  | \n"
     ]
    }
   ],
   "source": [
    "\n",
    "for indice, elemento in enumerate(clases_sorted):\n",
    "    \n",
    "    print(\" | \",\n",
    "    clases_sorted[indice], \n",
    "    \" | \",\n",
    "    fa_sorted[indice], \n",
    "    \" | \",\n",
    "    round(fr_relativa[indice], 2), \n",
    "    \" | \",\n",
    "    round(fr_acum[indice], 2),\n",
    "    \" | \")"
   ]
  },
  {
   "cell_type": "code",
   "execution_count": 8,
   "id": "87e7bed7-5849-412b-be7b-12fb722dec7e",
   "metadata": {},
   "outputs": [
    {
     "name": "stdout",
     "output_type": "stream",
     "text": [
      "       Clases  F absoluta  F relativa  F acumulada\n",
      "0    ARÁNDANO           4   19.047619    19.047619\n",
      "1      CEREZA           1    4.761905    23.809524\n",
      "2   FRAMBUESA           1    4.761905    28.571429\n",
      "3       FRESA           1    4.761905    33.333333\n",
      "4        HIGO           1    4.761905    38.095238\n",
      "5        KIWI           1    4.761905    42.857143\n",
      "6        LIMA           1    4.761905    47.619048\n",
      "7       LIMÓN           1    4.761905    52.380952\n",
      "8       MANGO           1    4.761905    57.142857\n",
      "9     MANZANA           1    4.761905    61.904762\n",
      "10      MELÓN           1    4.761905    66.666667\n",
      "11    NARANJA           1    4.761905    71.428571\n",
      "12       PERA           1    4.761905    76.190476\n",
      "13       PIÑA           1    4.761905    80.952381\n",
      "14    PLÁTANO           1    4.761905    85.714286\n",
      "15     POMELO           1    4.761905    90.476190\n",
      "16     SANDÍA           1    4.761905    95.238095\n",
      "17       UVAS           1    4.761905   100.000000\n"
     ]
    }
   ],
   "source": [
    "datos = [\n",
    "    \"manzana\", \"manzana\", \"pera\", \"naranja\", \"plátano\", \"fresa\", \"kiwi\", \"uvas\", \"mango\", \"piña\",\n",
    "    \"manzana\", \"arándano\", \"cereza\", \"frambuesa\", \"melón\", \"sandía\", \"higo\", \"pomelo\", \"limón\", \"lima\",\n",
    "    \"manzana\" \n",
    "        ]\n",
    "mayus = p.format_list(datos)\n",
    "clases, fa_absoluta = r.frec_abs(mayus)\n",
    "clases_sorted = o.clases_str_sort(clases)\n",
    "fa_sorted = m.sort_clases_fa(clases, clases_sorted, fa_absoluta)\n",
    "\n",
    "fr_relativa =  g.frecuencia_rel(fa_sorted)\n",
    "\n",
    "fr_acum = j.calcular_frecuencia_a(fr_relativa)\n",
    "\n",
    "tabla = ft.imptabla(clases_sorted, fa_sorted, fr_relativa, fr_acum)\n",
    "\n",
    "print (tabla)"
   ]
  }
 ],
 "metadata": {
  "kernelspec": {
   "display_name": "Python 3 (ipykernel)",
   "language": "python",
   "name": "python3"
  },
  "language_info": {
   "codemirror_mode": {
    "name": "ipython",
    "version": 3
   },
   "file_extension": ".py",
   "mimetype": "text/x-python",
   "name": "python",
   "nbconvert_exporter": "python",
   "pygments_lexer": "ipython3",
   "version": "3.11.4"
  }
 },
 "nbformat": 4,
 "nbformat_minor": 5
}
