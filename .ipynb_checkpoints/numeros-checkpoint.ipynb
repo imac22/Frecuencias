{
 "cells": [
  {
   "cell_type": "code",
   "execution_count": 1,
   "id": "0deea3be-2ce6-4fce-bef5-96c55b79be1d",
   "metadata": {},
   "outputs": [],
   "source": [
    "import codigo_base.chavez as c\n",
    "import codigo_base.fr as fr\n",
    "import codigo_base.fa as fa\n",
    "import codigo_base.chema as che\n",
    "import codigo_base.escamilla as esc\n",
    "\n",
    "# Graficas\n",
    "import codigo_base.reyes as re\n",
    "import codigo_base.montaño as me\n",
    "import codigo_base.caracas as ca\n",
    "import codigo_base.paz as pa\n",
    "import codigo_base.atanacio as at"
   ]
  },
  {
   "cell_type": "code",
   "execution_count": 2,
   "id": "cc92b21e-eef5-4fa8-abb4-fc901b1b010e",
   "metadata": {},
   "outputs": [
    {
     "name": "stdout",
     "output_type": "stream",
     "text": [
      "Límites Inferiores: [0.0, 0.33, 0.66, 0.99, 1.32]\n",
      "Límites Superiores: [0.33, 0.66, 0.99, 1.32, 1.65]\n",
      "Marcas de Clase: [0.165, 0.495, 0.825, 1.155, 1.485]\n",
      "   Limite inferior  Limite superior  Marcas de clase  Frecuencia absoluta  \\\n",
      "0             0.00             0.33            0.165                    6   \n",
      "1             0.33             0.66            0.495                    4   \n",
      "2             0.66             0.99            0.825                    3   \n",
      "3             0.99             1.32            1.155                    3   \n",
      "4             1.32             1.65            1.485                    4   \n",
      "\n",
      "   Frecuencia Relativa  Frecuencia Acumulada  \n",
      "0                 30.0                  30.0  \n",
      "1                 20.0                  50.0  \n",
      "2                 15.0                  65.0  \n",
      "3                 15.0                  80.0  \n",
      "4                 20.0                 100.0  \n"
     ]
    }
   ],
   "source": [
    "datos = [0, 0, 0.33, 0.33, 0.33, 0.33, 0.66, 0.66, 0.66, 0.66, 0.99, 0.99, 0.99, 1.32,\n",
    "         1.32, 1.32, 1.65, 1.65, 1.65, 1.65]\n",
    "\n",
    "clases = [1, 2, 3, 4, 5]\n",
    "lim_inf, lim_sup, mrks = c.clases_grouped(datos)\n",
    "print(\"Límites Inferiores:\", lim_inf)\n",
    "print(\"Límites Superiores:\", lim_sup)\n",
    "print(\"Marcas de Clase:\", mrks)\n",
    "\n",
    "\n",
    "freq_absoluta = che.fa_grouped(datos, lim_inf, lim_sup)\n",
    "freq_relativa = fr.obtener_fr(freq_absoluta)\n",
    "frecuencia_acumulada = fa.obtener_fa(freq_relativa)\n",
    "\n",
    "\n",
    "\n",
    "tbl = esc.tabla_grouped(lim_inf, lim_sup, mrks, freq_absoluta, freq_relativa, frecuencia_acumulada)\n",
    "print(tbl)\n"
   ]
  },
  {
   "cell_type": "code",
   "execution_count": null,
   "id": "6a470176-7710-4373-b218-14526a647855",
   "metadata": {},
   "outputs": [],
   "source": [
    "clases = [1, 2, 3, 4, 5]\n",
    "histograma = ca.plot_hist(clases, fa_sorted, marcas_texto)\n",
    "poligono = me.plot_poligono(clases, fa_sorted,marcas_texto)\n",
    "barras = pa.plot_barras(clases, fa_sorted,marcas_texto)\n",
    "ojiva = at.plot_ojiva(clases, fr_acum, marcas_texto)\n",
    "pastel = re.plot_pie(fr_relativa,marcas_texto)\n"
   ]
  }
 ],
 "metadata": {
  "kernelspec": {
   "display_name": "Python 3 (ipykernel)",
   "language": "python",
   "name": "python3"
  },
  "language_info": {
   "codemirror_mode": {
    "name": "ipython",
    "version": 3
   },
   "file_extension": ".py",
   "mimetype": "text/x-python",
   "name": "python",
   "nbconvert_exporter": "python",
   "pygments_lexer": "ipython3",
   "version": "3.11.4"
  }
 },
 "nbformat": 4,
 "nbformat_minor": 5
}
