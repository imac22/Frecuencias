{
 "cells": [
  {
   "cell_type": "code",
   "execution_count": 2,
   "id": "0deea3be-2ce6-4fce-bef5-96c55b79be1d",
   "metadata": {},
   "outputs": [],
   "source": [
    "import codigo_base.chavez as c\n",
    "import codigo_base.fr as fr\n",
    "import codigo_base.fa as fa\n",
    "import codigo_base.chema as che\n",
    "import codigo_base.escamilla as esc\n",
    "\n",
    "# Graficas\n",
    "import codigo_base.reyes as re\n",
    "import codigo_base.montaño as me\n",
    "import codigo_base.caracas as ca\n",
    "import codigo_base.paz as pa\n",
    "import codigo_base.atanacio as at"
   ]
  },
  {
   "cell_type": "code",
   "execution_count": 3,
   "id": "cc92b21e-eef5-4fa8-abb4-fc901b1b010e",
   "metadata": {},
   "outputs": [
    {
     "name": "stdout",
     "output_type": "stream",
     "text": [
      "Límites Inferiores: [0.0, 0.33, 0.66, 0.99, 1.32]\n",
      "Límites Superiores: [0.33, 0.66, 0.99, 1.32, 1.65]\n",
      "Marcas de Clase: [0.165, 0.495, 0.825, 1.155, 1.485]\n",
      "[2, 4, 4, 3, 7]\n",
      "   Limite inferior  Limite superior  Marcas de clase  Frecuencia absoluta  \\\n",
      "0             0.00             0.33            0.165                    2   \n",
      "1             0.33             0.66            0.495                    4   \n",
      "2             0.66             0.99            0.825                    4   \n",
      "3             0.99             1.32            1.155                    3   \n",
      "4             1.32             1.65            1.485                    7   \n",
      "\n",
      "   Frecuencia Relativa  Frecuencia Acumulada  \n",
      "0                 10.0                  10.0  \n",
      "1                 20.0                  30.0  \n",
      "2                 20.0                  50.0  \n",
      "3                 15.0                  65.0  \n",
      "4                 35.0                 100.0  \n"
     ]
    }
   ],
   "source": [
    "datos = [0, 0, 0.33, 0.33, 0.33, 0.33, 0.66, 0.66, 0.66, 0.66, 0.99, 0.99, 0.99, 1.32,\n",
    "         1.32, 1.32, 1.65, 1.65, 1.65, 1.65]\n",
    "\n",
    "lim_inf, lim_sup, mrks = c.clases_grouped(datos)\n",
    "print(\"Límites Inferiores:\", lim_inf)\n",
    "print(\"Límites Superiores:\", lim_sup)\n",
    "print(\"Marcas de Clase:\", mrks)\n",
    "\n",
    "\n",
    "freq_absoluta = che.fa_grouped(datos, lim_inf, lim_sup)\n",
    "\n",
    "print(freq_absoluta)\n",
    "freq_relativa = fr.obtener_fr(freq_absoluta)\n",
    "frecuencia_acumulada = fa.obtener_fa(freq_relativa)\n",
    "\n",
    "\n",
    "\n",
    "tbl = esc.tabla_grouped(lim_inf, lim_sup, mrks, freq_absoluta, freq_relativa, frecuencia_acumulada)\n",
    "print(tbl)\n"
   ]
  },
  {
   "cell_type": "code",
   "execution_count": 4,
   "id": "6a470176-7710-4373-b218-14526a647855",
   "metadata": {},
   "outputs": [
    {
     "ename": "NameError",
     "evalue": "name 'clases' is not defined",
     "output_type": "error",
     "traceback": [
      "\u001b[1;31m---------------------------------------------------------------------------\u001b[0m",
      "\u001b[1;31mNameError\u001b[0m                                 Traceback (most recent call last)",
      "Cell \u001b[1;32mIn[4], line 5\u001b[0m\n\u001b[0;32m      2\u001b[0m labely \u001b[38;5;241m=\u001b[39m \u001b[38;5;124m\"\u001b[39m\u001b[38;5;124mEstaturas\u001b[39m\u001b[38;5;124m\"\u001b[39m\n\u001b[0;32m      3\u001b[0m titulo \u001b[38;5;241m=\u001b[39m \u001b[38;5;124m\"\u001b[39m\u001b[38;5;124mEdades vs Estaturas\u001b[39m\u001b[38;5;124m\"\u001b[39m\n\u001b[1;32m----> 5\u001b[0m histograma \u001b[38;5;241m=\u001b[39m ca\u001b[38;5;241m.\u001b[39mplot_hist(\u001b[43mclases\u001b[49m, freq_absoluta, mrks, labelx, labely, titulo)\n\u001b[0;32m      6\u001b[0m poligono \u001b[38;5;241m=\u001b[39m me\u001b[38;5;241m.\u001b[39mplot_poligono(clases, freq_absoluta,mrks, labelx, labely, titulo)\n\u001b[0;32m      7\u001b[0m barras \u001b[38;5;241m=\u001b[39m pa\u001b[38;5;241m.\u001b[39mplot_barras(clases, freq_absoluta,mrks, labelx, labely, titulo)\n",
      "\u001b[1;31mNameError\u001b[0m: name 'clases' is not defined"
     ]
    }
   ],
   "source": [
    "labelx = \"Edades\"\n",
    "labely = \"Estaturas\"\n",
    "titulo = \"Edades vs Estaturas\"\n",
    "\n",
    "histograma = ca.plot_hist(clases, freq_absoluta, mrks, labelx, labely, titulo)\n",
    "poligono = me.plot_poligono(clases, freq_absoluta,mrks, labelx, labely, titulo)\n",
    "barras = pa.plot_barras(clases, freq_absoluta,mrks, labelx, labely, titulo)\n",
    "ojiva = at.plot_ojiva(clases, frecuencia_acumulada, mrks, labelx, labely, titulo)\n",
    "pastel = re.plot_pie(freq_relativa,mrks,titulo)\n"
   ]
  }
 ],
 "metadata": {
  "kernelspec": {
   "display_name": "Python 3 (ipykernel)",
   "language": "python",
   "name": "python3"
  },
  "language_info": {
   "codemirror_mode": {
    "name": "ipython",
    "version": 3
   },
   "file_extension": ".py",
   "mimetype": "text/x-python",
   "name": "python",
   "nbconvert_exporter": "python",
   "pygments_lexer": "ipython3",
   "version": "3.12.4"
  }
 },
 "nbformat": 4,
 "nbformat_minor": 5
}
