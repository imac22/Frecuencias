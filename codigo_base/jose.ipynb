{
 "cells": [
  {
   "cell_type": "code",
   "execution_count": null,
   "metadata": {},
   "outputs": [],
   "source": [
    "def calc_fa(fr):\n",
    "    fa = []\n",
    "    suma_frecuencias = 0\n",
    "    for elemento in fr:\n",
    "        suma_frecuencias += elemento\n",
    "        fa.append(suma_frecuencias)\n",
    "    return fa"
   ]
  }
 ],
 "metadata": {
  "language_info": {
   "name": "python"
  }
 },
 "nbformat": 4,
 "nbformat_minor": 2
}
